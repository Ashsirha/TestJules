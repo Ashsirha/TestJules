{
 "cells": [
  {
   "cell_type": "markdown",
   "metadata": {},
   "source": [
    "# PyMath Library Visualizations"
   ]
  },
  {
   "cell_type": "markdown",
   "metadata": {},
   "source": [
    "This notebook demonstrates some of the functions from the `pymath` library and visualizes their behavior."
   ]
  },
  {
   "cell_type": "code",
   "execution_count": null,
   "metadata": {},
   "outputs": [],
   "source": [
    "import matplotlib.pyplot as plt\n",
    "import numpy as np\n",
    "from pymath.lib.math import (\n",
    "    fibonacci, factorial, is_prime, \n",
    "    sigmoid, relu, softmax, normalize, \n",
    "    euclidean_distance, manhattan_distance\n",
    ")\n",
    "\n",
    "# Ensure plots appear inline in Jupyter Notebook\n",
    "%matplotlib inline"
   ]
  },
  {
   "cell_type": "markdown",
   "metadata": {},
   "source": [
    "## 1. Fibonacci Sequence"
   ]
  },
  {
   "cell_type": "code",
   "execution_count": null,
   "metadata": {},
   "outputs": [],
   "source": [
    "fib_numbers = [fibonacci(n) for n in range(20)]\n",
    "print(f\"First 20 Fibonacci numbers: {fib_numbers}\")"
   ]
  },
  {
   "cell_type": "code",
   "execution_count": null,
   "metadata": {},
   "outputs": [],
   "source": [
    "plt.figure(figsize=(10, 6))\n",
    "plt.plot(range(20), fib_numbers, marker='o', linestyle='-')\n",
    "plt.title(\"First 20 Fibonacci Numbers\")\n",
    "plt.xlabel(\"Index (n)\")\n",
    "plt.ylabel(\"Fibonacci Value F(n)\")\n",
    "plt.grid(True)\n",
    "plt.show()"
   ]
  },
  {
   "cell_type": "markdown",
   "metadata": {},
   "source": [
    "## 2. Factorial Function Growth"
   ]
  },
  {
   "cell_type": "code",
   "execution_count": null,
   "metadata": {},
   "outputs": [],
   "source": [
    "n_values_fact = list(range(11))\n",
    "fact_values = [factorial(n) for n in n_values_fact]\n",
    "print(f\"Factorial values for n=0 to 10: {list(zip(n_values_fact, fact_values))}\")"
   ]
  },
  {
   "cell_type": "code",
   "execution_count": null,
   "metadata": {},
   "outputs": [],
   "source": [
    "plt.figure(figsize=(10, 6))\n",
    "plt.plot(n_values_fact, fact_values, marker='o', color='green', linestyle='--')\n",
    "plt.title(\"Factorial Values for n=0 to n=10\")\n",
    "plt.xlabel(\"Number (n)\")\n",
    "plt.ylabel(\"Factorial n!\")\n",
    "plt.yscale('log') # Using log scale due to rapid growth\n",
    "plt.grid(True, which=\"both\", ls=\"-\")\n",
    "plt.show()"
   ]
  },
  {
   "cell_type": "markdown",
   "metadata": {},
   "source": [
    "The factorial function grows very rapidly. A log scale on the y-axis is often useful for visualizing its growth."
   ]
  },
  {
   "cell_type": "markdown",
   "metadata": {},
   "source": [
    "## 3. Prime Number Identification"
   ]
  },
  {
   "cell_type": "code",
   "execution_count": null,
   "metadata": {},
   "outputs": [],
   "source": [
    "number_range = list(range(1, 101))\n",
    "prime_flags = [is_prime(n) for n in number_range]\n",
    "primes_in_range = [n for n, is_p in zip(number_range, prime_flags) if is_p]\n",
    "print(f\"Prime numbers between 1 and 100: {primes_in_range}\")"
   ]
  },
  {
   "cell_type": "code",
   "execution_count": null,
   "metadata": {},
   "outputs": [],
   "source": [
    "plt.figure(figsize=(12, 2))\n",
    "colors = ['blue' if p else 'red' for p in prime_flags]\n",
    "plt.scatter(number_range, [1]*len(number_range), c=colors, marker='|', s=200) # s is marker size\n",
    "plt.yticks([]) # Hide y-axis ticks as it's just for indication\n",
    "plt.title(\"Prime Numbers between 1 and 100 (Blue=Prime, Red=Not Prime)\")\n",
    "plt.xlabel(\"Number\")\n",
    "plt.grid(True, axis='x')\n",
    "plt.show()"
   ]
  },
  {
   "cell_type": "markdown",
   "metadata": {},
   "source": [
    "This visualization shows numbers from 1 to 100. Prime numbers are marked in blue, and non-prime numbers are marked in red."
   ]
  },
  {
   "cell_type": "markdown",
   "metadata": {},
   "source": [
    "## 4. Sigmoid Function"
   ]
  },
  {
   "cell_type": "code",
   "execution_count": null,
   "metadata": {},
   "outputs": [],
   "source": [
    "x_sigmoid = np.linspace(-10, 10, 100)\n",
    "y_sigmoid = [sigmoid(x) for x in x_sigmoid]\n",
    "plt.figure(figsize=(8, 5))\n",
    "plt.plot(x_sigmoid, y_sigmoid)\n",
    "plt.title(\"Sigmoid Activation Function\")\n",
    "plt.xlabel(\"x\")\n",
    "plt.ylabel(\"sigmoid(x)\")\n",
    "plt.grid(True)\n",
    "plt.show()"
   ]
  },
  {
   "cell_type": "markdown",
   "metadata": {},
   "source": [
    "## 5. ReLU Function"
   ]
  },
  {
   "cell_type": "code",
   "execution_count": null,
   "metadata": {},
   "outputs": [],
   "source": [
    "x_relu = np.linspace(-10, 10, 100)\n",
    "y_relu = [relu(x) for x in x_relu]\n",
    "plt.figure(figsize=(8, 5))\n",
    "plt.plot(x_relu, y_relu)\n",
    "plt.title(\"ReLU Activation Function\")\n",
    "plt.xlabel(\"x\")\n",
    "plt.ylabel(\"relu(x)\")\n",
    "plt.grid(True)\n",
    "plt.show()"
   ]
  },
  {
   "cell_type": "markdown",
   "metadata": {},
   "source": [
    "## 6. Softmax Function"
   ]
  },
  {
   "cell_type": "code",
   "execution_count": null,
   "metadata": {},
   "outputs": [],
   "source": [
    "scores = [1.0, 2.0, 0.5, 3.0]\n",
    "probabilities = softmax(scores)\n",
    "print(f\"Original Scores: {scores}\")\n",
    "print(f\"Softmax Probabilities: {probabilities}\")\n",
    "\n",
    "x_labels = [f'Score {s}' for s in scores]\n",
    "\n",
    "fig, axs = plt.subplots(1, 2, figsize=(12, 5))\n",
    "\n",
    "axs[0].bar(x_labels, scores, color='skyblue')\n",
    "axs[0].set_title('Original Scores')\n",
    "axs[0].set_ylabel('Score Value')\n",
    "\n",
    "axs[1].bar(x_labels, probabilities, color='lightgreen')\n",
    "axs[1].set_title('Softmax Probabilities')\n",
    "axs[1].set_ylabel('Probability')\n",
    "\n",
    "plt.tight_layout()\n",
    "plt.show()"
   ]
  },
  {
   "cell_type": "markdown",
   "metadata": {},
   "source": [
    "## 7. Min-Max Normalization"
   ]
  },
  {
   "cell_type": "code",
   "execution_count": null,
   "metadata": {},
   "outputs": [],
   "source": [
    "data_to_normalize = [10, 20, 5, 15, 25, 0, 30]\n",
    "normalized_data = normalize(data_to_normalize)\n",
    "print(f\"Original Data: {data_to_normalize}\")\n",
    "print(f\"Normalized Data: {normalized_data}\")\n",
    "\n",
    "fig, axs = plt.subplots(1, 2, figsize=(12, 5))\n",
    "x_axis_data = range(len(data_to_normalize))\n",
    "\n",
    "axs[0].plot(x_axis_data, data_to_normalize, marker='o', label='Original Data')\n",
    "axs[0].set_title('Original Data')\n",
    "axs[0].set_xlabel('Index')\n",
    "axs[0].set_ylabel('Value')\n",
    "axs[0].grid(True)\n",
    "\n",
    "axs[1].plot(x_axis_data, normalized_data, marker='x', color='red', label='Normalized Data')\n",
    "axs[1].set_title('Min-Max Normalized Data')\n",
    "axs[1].set_xlabel('Index')\n",
    "axs[1].set_ylabel('Normalized Value')\n",
    "axs[1].grid(True)\n",
    "\n",
    "plt.tight_layout()\n",
    "plt.show()"
   ]
  },
  {
   "cell_type": "markdown",
   "metadata": {},
   "source": [
    "## 8. Euclidean vs. Manhattan Distance"
   ]
  },
  {
   "cell_type": "code",
   "execution_count": null,
   "metadata": {},
   "outputs": [],
   "source": [
    "p1 = [1, 1]\n",
    "p2 = [4, 5]\n",
    "\n",
    "e_dist = euclidean_distance(p1, p2)\n",
    "m_dist = manhattan_distance(p1, p2)\n",
    "\n",
    "plt.figure(figsize=(8, 6))\n",
    "plt.scatter([p1[0], p2[0]], [p1[1], p2[1]], color='red', s=100, label='Points')\n",
    "plt.text(p1[0], p1[1]+0.2, 'p1 (1,1)', fontsize=12)\n",
    "plt.text(p2[0], p2[1]+0.2, 'p2 (4,5)', fontsize=12)\n",
    "\n",
    "# Euclidean path\n",
    "plt.plot([p1[0], p2[0]], [p1[1], p2[1]], 'b--', label=f'Euclidean Distance ({e_dist:.2f})')\n",
    "\n",
    "# Manhattan path (one possible representation)\n",
    "plt.plot([p1[0], p2[0], p2[0]], [p1[1], p1[1], p2[1]], 'g:', label=f'Manhattan Distance ({m_dist:.2f})')\n",
    "\n",
    "plt.title('Euclidean vs. Manhattan Distance')\n",
    "plt.xlabel('X-coordinate')\n",
    "plt.ylabel('Y-coordinate')\n",
    "plt.legend()\n",
    "plt.grid(True)\n",
    "plt.axis('equal') # Ensure aspect ratio is equal for distance visualization\n",
    "plt.show()"
   ]
  },
  {
   "cell_type": "markdown",
   "metadata": {},
   "source": [
    "The Euclidean distance (blue dashed line) is the shortest straight-line path between two points. The Manhattan distance (green dotted line) is the sum of the absolute differences of their Cartesian coordinates, representing a path along grid lines."
   ]
  }
 ],
 "metadata": {
  "kernelspec": {
   "display_name": "Python 3",
   "language": "python",
   "name": "python3"
  },
  "language_info": {
   "codemirror_mode": {
    "name": "ipython",
    "version": 3
   },
   "file_extension": ".py",
   "mimetype": "text/x-python",
   "name": "python",
   "nbconvert_exporter": "python",
   "pygments_lexer": "ipython3",
   "version": "3.10.12"
  }
 },
 "nbformat": 4,
 "nbformat_minor": 4
}
