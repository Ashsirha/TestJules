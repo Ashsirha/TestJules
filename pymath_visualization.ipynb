{
 "cells": [
  {
   "cell_type": "markdown",
   "metadata": {},
   "source": [
    "# PyMath Library Visualizations"
   ]
  },
  {
   "cell_type": "markdown",
   "metadata": {},
   "source": [
    "This notebook demonstrates some of the functions from the `pymath` library and visualizes their behavior."
   ]
  },
  {
   "cell_type": "code",
   "execution_count": null,
   "metadata": {},
   "outputs": [],
   "source": [
    "import matplotlib.pyplot as plt\n",
    "from pymath.lib.math import fibonacci, factorial, is_prime\n",
    "\n",
    "# Ensure plots appear inline in Jupyter Notebook\n",
    "%matplotlib inline"
   ]
  },
  {
   "cell_type": "markdown",
   "metadata": {},
   "source": [
    "## 1. Fibonacci Sequence"
   ]
  },
  {
   "cell_type": "code",
   "execution_count": null,
   "metadata": {},
   "outputs": [],
   "source": [
    "fib_numbers = [fibonacci(n) for n in range(20)]\n",
    "print(f\"First 20 Fibonacci numbers: {fib_numbers}\")"
   ]
  },
  {
   "cell_type": "code",
   "execution_count": null,
   "metadata": {},
   "outputs": [],
   "source": [
    "plt.figure(figsize=(10, 6))\n",
    "plt.plot(range(20), fib_numbers, marker='o', linestyle='-')\n",
    "plt.title(\"First 20 Fibonacci Numbers\")\n",
    "plt.xlabel(\"Index (n)\")\n",
    "plt.ylabel(\"Fibonacci Value F(n)\")\n",
    "plt.grid(True)\n",
    "plt.show()"
   ]
  },
  {
   "cell_type": "markdown",
   "metadata": {},
   "source": [
    "## 2. Factorial Function Growth"
   ]
  },
  {
   "cell_type": "code",
   "execution_count": null,
   "metadata": {},
   "outputs": [],
   "source": [
    "n_values_fact = list(range(11))\n",
    "fact_values = [factorial(n) for n in n_values_fact]\n",
    "print(f\"Factorial values for n=0 to 10: {list(zip(n_values_fact, fact_values))}\")"
   ]
  },
  {
   "cell_type": "code",
   "execution_count": null,
   "metadata": {},
   "outputs": [],
   "source": [
    "plt.figure(figsize=(10, 6))\n",
    "plt.plot(n_values_fact, fact_values, marker='o', color='green', linestyle='--')\n",
    "plt.title(\"Factorial Values for n=0 to n=10\")\n",
    "plt.xlabel(\"Number (n)\")\n",
    "plt.ylabel(\"Factorial n!\")\n",
    "plt.yscale('log') # Using log scale due to rapid growth\n",
    "plt.grid(True, which=\"both\", ls=\"-\")\n",
    "plt.show()"
   ]
  },
  {
   "cell_type": "markdown",
   "metadata": {},
   "source": [
    "The factorial function grows very rapidly. A log scale on the y-axis is often useful for visualizing its growth."
   ]
  },
  {
   "cell_type": "markdown",
   "metadata": {},
   "source": [
    "## 3. Prime Number Identification"
   ]
  },
  {
   "cell_type": "code",
   "execution_count": null,
   "metadata": {},
   "outputs": [],
   "source": [
    "number_range = list(range(1, 101))\n",
    "prime_flags = [is_prime(n) for n in number_range]\n",
    "primes_in_range = [n for n, is_p in zip(number_range, prime_flags) if is_p]\n",
    "print(f\"Prime numbers between 1 and 100: {primes_in_range}\")"
   ]
  },
  {
   "cell_type": "code",
   "execution_count": null,
   "metadata": {},
   "outputs": [],
   "source": [
    "plt.figure(figsize=(12, 2))\n",
    "colors = ['blue' if p else 'red' for p in prime_flags]\n",
    "plt.scatter(number_range, [1]*len(number_range), c=colors, marker='|', s=200) # s is marker size\n",
    "plt.yticks([]) # Hide y-axis ticks as it's just for indication\n",
    "plt.title(\"Prime Numbers between 1 and 100 (Blue=Prime, Red=Not Prime)\")\n",
    "plt.xlabel(\"Number\")\n",
    "plt.grid(True, axis='x')\n",
    "plt.show()"
   ]
  },
  {
   "cell_type": "markdown",
   "metadata": {},
   "source": [
    "This visualization shows numbers from 1 to 100. Prime numbers are marked in blue, and non-prime numbers are marked in red."
   ]
  }
 ],
 "metadata": {
  "kernelspec": {
   "display_name": "Python 3",
   "language": "python",
   "name": "python3"
  },
  "language_info": {
   "codemirror_mode": {
    "name": "ipython",
    "version": 3
   },
   "file_extension": ".py",
   "mimetype": "text/x-python",
   "name": "python",
   "nbconvert_exporter": "python",
   "pygments_lexer": "ipython3",
   "version": "3.10.12"
  }
 },
 "nbformat": 4,
 "nbformat_minor": 4
}
