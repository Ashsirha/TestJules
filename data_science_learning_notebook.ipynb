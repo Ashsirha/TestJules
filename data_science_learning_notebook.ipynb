{
 "cells": [
  {
   "cell_type": "markdown",
   "id": "a9e263f7",
   "metadata": {},
   "source": [
    "# A Beginner's Journey into Data Science: From Python Basics to First Insights"
   ]
  },
  {
   "cell_type": "markdown",
   "id": "88d6720b",
   "metadata": {},
   "source": [
    "Welcome! This interactive notebook is your companion on a journey to learn the fundamentals of Data Science. We'll start with the very basics of Python programming tailored for data tasks, explore how to describe and visualize data, delve into core machine learning concepts, and work through a mini-project. Each section is designed to build upon the last, providing a structured path for beginners. Let's get started!"
   ]
  },
  {
   "cell_type": "markdown",
   "id": "6d4819e2",
   "metadata": {},
   "source": [
    "### Section 1: Welcome to the World of Data Science!"
   ]
  },
  {
   "cell_type": "markdown",
   "id": "fc0fff60",
   "metadata": {},
   "source": [
    "*   **Learning Objectives:**\n",
    "    *   Understand what data science is.\n",
    "    *   Learn about the typical lifecycle of a data science project.\n",
    "    *   Become aware of ethical considerations in data science."
   ]
  },
  {
   "cell_type": "markdown",
   "id": "896b996d",
   "metadata": {},
   "source": [
    "*   **Content:**\n",
    "    *   **What is Data Science?**\n",
    "        *   Definition and its interdisciplinary nature.\n",
    "        *   Impact of data science across various industries."
   ]
  },
  {
   "cell_type": "markdown",
   "id": "665881c5",
   "metadata": {},
   "source": [
    "    *   **Key Components of Data Science:**\n",
    "        *   Statistics: The science of learning from data.\n",
    "        *   Programming: Tools to manipulate and analyze data (Python focus).\n",
    "        *   Domain Expertise: Understanding the context of the data."
   ]
  },
  {
   "cell_type": "markdown",
   "id": "ec1e8b78",
   "metadata": {},
   "source": [
    "    *   **The Data Science Lifecycle:**\n",
    "        *   Business Understanding / Problem Definition\n",
    "        *   Data Collection: Gathering relevant data.\n",
    "        *   Data Cleaning/Preprocessing: Handling missing values, errors, and formatting.\n",
    "        *   Exploratory Data Analysis (EDA): Uncovering patterns and insights.\n",
    "        *   Model Building: Selecting and training machine learning models.\n",
    "        *   Model Evaluation: Assessing model performance.\n",
    "        *   Deployment/Interpretation: Using the model and communicating results."
   ]
  },
  {
   "cell_type": "markdown",
   "id": "9e45e799",
   "metadata": {},
   "source": [
    "    *   **Ethical Considerations in Data Science:**\n",
    "        *   Bias: How data or algorithms can lead to unfair outcomes.\n",
    "        *   Privacy: Protecting sensitive information.\n",
    "        *   Transparency: Understanding how models make decisions."
   ]
  },
  {
   "cell_type": "markdown",
   "id": "a4b204b3",
   "metadata": {},
   "source": [
    "*   **`pymath` library usage:** None in this section."
   ]
  },
  {
   "cell_type": "markdown",
   "id": "67c9e6b4",
   "metadata": {},
   "source": [
    "### Section 2: Python Essentials for Data Exploration"
   ]
  },
  {
   "cell_type": "markdown",
   "id": "fd647b76",
   "metadata": {},
   "source": [
    "*   **Learning Objectives:**\n",
    "    *   Refresh basic Python syntax relevant to data tasks.\n",
    "    *   Understand how to use lists and dictionaries for data manipulation.\n",
    "    *   Learn to write simple functions."
   ]
  },
  {
   "cell_type": "markdown",
   "id": "21db4df3",
   "metadata": {},
   "source": [
    "*   **Content:**\n",
    "    *   **Quick Python Recap:**\n",
    "        *   Variables and Data Types: Integers, floats, strings, booleans.\n",
    "        *   Basic Operators:\n",
    "            *   Arithmetic (`+`, `-`, `*`, `/`, `%`, `**`)\n",
    "            *   Comparison (`==`, `!=`, `>`, `<`, `>=`, `<=`)\n",
    "            *   Logical (`and`, `or`, `not`)"
   ]
  },
  {
   "cell_type": "markdown",
   "id": "c82be51b",
   "metadata": {},
   "source": [
    "#### Variables & Basic Data Types"
   ]
  },
  {
   "cell_type": "code",
   "execution_count": 1,
   "id": "6bbb6242",
   "metadata": {
    "execution": {
     "iopub.execute_input": "2025-06-04T13:59:52.929335Z",
     "iopub.status.busy": "2025-06-04T13:59:52.928847Z",
     "iopub.status.idle": "2025-06-04T13:59:52.947261Z",
     "shell.execute_reply": "2025-06-04T13:59:52.946108Z"
    }
   },
   "outputs": [
    {
     "name": "stdout",
     "output_type": "stream",
     "text": [
      "Integer: 10, Type: <class 'int'>\n",
      "Float: 3.14, Type: <class 'float'>\n",
      "String: Hello, Data Science!, Type: <class 'str'>\n",
      "Boolean d: True, Type: <class 'bool'>\n",
      "Boolean e: False, Type: <class 'bool'>\n"
     ]
    }
   ],
   "source": [
    "# Integers\n",
    "a = 10\n",
    "print(f\"Integer: {a}, Type: {type(a)}\")\n",
    "\n",
    "# Floats\n",
    "b = 3.14\n",
    "print(f\"Float: {b}, Type: {type(b)}\")\n",
    "\n",
    "# Strings\n",
    "c = \"Hello, Data Science!\"\n",
    "print(f\"String: {c}, Type: {type(c)}\")\n",
    "\n",
    "# Booleans\n",
    "d = True\n",
    "e = False\n",
    "print(f\"Boolean d: {d}, Type: {type(d)}\")\n",
    "print(f\"Boolean e: {e}, Type: {type(e)}\")"
   ]
  },
  {
   "cell_type": "markdown",
   "id": "76039093",
   "metadata": {},
   "source": [
    "#### Operators"
   ]
  },
  {
   "cell_type": "code",
   "execution_count": 2,
   "id": "6ea1a1a6",
   "metadata": {
    "execution": {
     "iopub.execute_input": "2025-06-04T13:59:52.951320Z",
     "iopub.status.busy": "2025-06-04T13:59:52.950917Z",
     "iopub.status.idle": "2025-06-04T13:59:52.958778Z",
     "shell.execute_reply": "2025-06-04T13:59:52.957736Z"
    }
   },
   "outputs": [
    {
     "name": "stdout",
     "output_type": "stream",
     "text": [
      "10 + 3 = 13\n",
      "10 - 3 = 7\n",
      "10 * 3 = 30\n",
      "10 / 3 = 3.3333333333333335\n",
      "10 // 3 = 3\n",
      "10 % 3 = 1\n",
      "10 ** 3 = 1000\n",
      "Is 10 > 3? True\n",
      "Is 10 == 3? False\n",
      "True and False = False\n",
      "True or False = True\n",
      "not True = False\n"
     ]
    }
   ],
   "source": [
    "# Arithmetic Operators\n",
    "x = 10\n",
    "y = 3\n",
    "print(f\"{x} + {y} = {x + y}\")\n",
    "print(f\"{x} - {y} = {x - y}\")\n",
    "print(f\"{x} * {y} = {x * y}\")\n",
    "print(f\"{x} / {y} = {x / y}\") # Float division\n",
    "print(f\"{x} // {y} = {x // y}\") # Integer division\n",
    "print(f\"{x} % {y} = {x % y}\")   # Modulus\n",
    "print(f\"{x} ** {y} = {x ** y}\") # Exponentiation\n",
    "\n",
    "# Comparison Operators\n",
    "print(f\"Is {x} > {y}? {x > y}\")\n",
    "print(f\"Is {x} == {y}? {x == y}\")\n",
    "\n",
    "# Logical Operators\n",
    "p = True\n",
    "q = False\n",
    "print(f\"{p} and {q} = {p and q}\")\n",
    "print(f\"{p} or {q} = {p or q}\")\n",
    "print(f\"not {p} = {not p}\")"
   ]
  },
  {
   "cell_type": "markdown",
   "id": "54da23a3",
   "metadata": {},
   "source": [
    "    *   **Control Flow:**\n",
    "        *   `if/else` statements for conditional logic.\n",
    "        *   `for` loops for iterating over sequences.\n",
    "        *   `while` loops for repeated execution based on a condition."
   ]
  },
  {
   "cell_type": "code",
   "execution_count": 3,
   "id": "ade22be3",
   "metadata": {
    "execution": {
     "iopub.execute_input": "2025-06-04T13:59:52.962587Z",
     "iopub.status.busy": "2025-06-04T13:59:52.962213Z",
     "iopub.status.idle": "2025-06-04T13:59:52.969390Z",
     "shell.execute_reply": "2025-06-04T13:59:52.968166Z"
    }
   },
   "outputs": [
    {
     "name": "stdout",
     "output_type": "stream",
     "text": [
      "B\n",
      "Count is 0\n",
      "Count is 1\n",
      "Count is 2\n"
     ]
    }
   ],
   "source": [
    "# if/else\n",
    "grade = 85\n",
    "if grade >= 90:\n",
    "    print(\"A\")\n",
    "elif grade >= 80:\n",
    "    print(\"B\")\n",
    "else:\n",
    "    print(\"C or lower\")\n",
    "\n",
    "# for loop (conceptual pymath usage for factorial)\n",
    "# Assuming pymath.lib.math is accessible, otherwise this is conceptual.\n",
    "  \n",
    "# print(\"Factorials from 0 to 4:\")\n",
    "# for i in range(5):\n",
    "#     print(f\"Factorial of {i} is {factorial(i)}\")\n",
    "#     print(f\"Factorial of {i} is {factorial(i)}\")\n",
    "\n",
    "\n",
    "# while loop\n",
    "count = 0\n",
    "while count < 3:\n",
    "    print(f\"Count is {count}\")\n",
    "    count += 1"
   ]
  },
  {
   "cell_type": "markdown",
   "id": "cc47233d",
   "metadata": {},
   "source": [
    "    *   **Core Data Structures:**\n",
    "        *   Lists\n",
    "        *   Dictionaries"
   ]
  },
  {
   "cell_type": "markdown",
   "id": "79cb1ae0",
   "metadata": {},
   "source": [
    "#### Lists"
   ]
  },
  {
   "cell_type": "code",
   "execution_count": 4,
   "id": "628ab030",
   "metadata": {
    "execution": {
     "iopub.execute_input": "2025-06-04T13:59:52.974410Z",
     "iopub.status.busy": "2025-06-04T13:59:52.973982Z",
     "iopub.status.idle": "2025-06-04T13:59:52.981563Z",
     "shell.execute_reply": "2025-06-04T13:59:52.980328Z"
    }
   },
   "outputs": [
    {
     "name": "stdout",
     "output_type": "stream",
     "text": [
      "Original list: [1, 2, 3, 'apple', 3.14, True]\n",
      "First element: 1\n",
      "Last element: True\n",
      "Slice [1:3]: [2, 3]\n",
      "After append: [1, 2, 3, 'apple', 3.14, True, 'banana']\n",
      "Length of list: 7\n",
      "Sorted numbers: [1, 1, 2, 3, 4, 5, 6, 9]\n"
     ]
    }
   ],
   "source": [
    "# List creation\n",
    "my_list = [1, 2, 3, 'apple', 3.14, True]\n",
    "print(f\"Original list: {my_list}\")\n",
    "\n",
    "# Indexing\n",
    "print(f\"First element: {my_list[0]}\")\n",
    "print(f\"Last element: {my_list[-1]}\")\n",
    "\n",
    "# Slicing\n",
    "print(f\"Slice [1:3]: {my_list[1:3]}\")\n",
    "\n",
    "# Methods\n",
    "my_list.append('banana')\n",
    "print(f\"After append: {my_list}\")\n",
    "print(f\"Length of list: {len(my_list)}\")\n",
    "\n",
    "numbers = [3, 1, 4, 1, 5, 9, 2, 6]\n",
    "numbers.sort()\n",
    "print(f\"Sorted numbers: {numbers}\")"
   ]
  },
  {
   "cell_type": "markdown",
   "id": "b3b3eec8",
   "metadata": {},
   "source": [
    "#### Dictionaries"
   ]
  },
  {
   "cell_type": "code",
   "execution_count": 5,
   "id": "44d75692",
   "metadata": {
    "execution": {
     "iopub.execute_input": "2025-06-04T13:59:52.985416Z",
     "iopub.status.busy": "2025-06-04T13:59:52.985077Z",
     "iopub.status.idle": "2025-06-04T13:59:52.992064Z",
     "shell.execute_reply": "2025-06-04T13:59:52.990820Z"
    }
   },
   "outputs": [
    {
     "name": "stdout",
     "output_type": "stream",
     "text": [
      "Dictionary: {'name': 'Alice', 'age': 30, 'city': 'New York'}\n",
      "Name: Alice\n",
      "Age using get(): 30\n",
      "Keys: dict_keys(['name', 'age', 'city'])\n",
      "Values: dict_values(['Alice', 30, 'New York'])\n",
      "Items: dict_items([('name', 'Alice'), ('age', 30), ('city', 'New York')])\n",
      "Updated dictionary: {'name': 'Alice', 'age': 30, 'city': 'New York', 'occupation': 'Engineer'}\n"
     ]
    }
   ],
   "source": [
    "# Dictionary creation\n",
    "my_dict = {'name': 'Alice', 'age': 30, 'city': 'New York'}\n",
    "print(f\"Dictionary: {my_dict}\")\n",
    "\n",
    "# Accessing values\n",
    "print(f\"Name: {my_dict['name']}\")\n",
    "print(f\"Age using get(): {my_dict.get('age')}\")\n",
    "\n",
    "# Methods\n",
    "print(f\"Keys: {my_dict.keys()}\")\n",
    "print(f\"Values: {my_dict.values()}\")\n",
    "print(f\"Items: {my_dict.items()}\")\n",
    "\n",
    "my_dict['occupation'] = 'Engineer' # Adding a new key-value pair\n",
    "print(f\"Updated dictionary: {my_dict}\")"
   ]
  },
  {
   "cell_type": "markdown",
   "id": "a3fc84e5",
   "metadata": {},
   "source": [
    "    *   **Functions:**\n",
    "        *   Defining functions using `def`.\n",
    "        *   Parameters and arguments.\n",
    "        *   `return` statement for output.\n",
    "        *   Docstrings for explaining function purpose."
   ]
  },
  {
   "cell_type": "code",
   "execution_count": 6,
   "id": "8ab88585",
   "metadata": {
    "execution": {
     "iopub.execute_input": "2025-06-04T13:59:52.995871Z",
     "iopub.status.busy": "2025-06-04T13:59:52.995515Z",
     "iopub.status.idle": "2025-06-04T13:59:53.381858Z",
     "shell.execute_reply": "2025-06-04T13:59:53.380437Z"
    }
   },
   "outputs": [
    {
     "name": "stdout",
     "output_type": "stream",
     "text": [
      "Hello, Data Scientist!\n"
     ]
    },
    {
     "ename": "NameError",
     "evalue": "name 'is_prime' is not defined",
     "output_type": "error",
     "traceback": [
      "\u001b[0;31m---------------------------------------------------------------------------\u001b[0m",
      "\u001b[0;31mNameError\u001b[0m                                 Traceback (most recent call last)",
      "Cell \u001b[0;32mIn[6], line 23\u001b[0m\n\u001b[1;32m     20\u001b[0m         parity \u001b[38;5;241m=\u001b[39m \u001b[38;5;124m\"\u001b[39m\u001b[38;5;124modd\u001b[39m\u001b[38;5;124m\"\u001b[39m\n\u001b[1;32m     21\u001b[0m     \u001b[38;5;28;01mreturn\u001b[39;00m \u001b[38;5;124mf\u001b[39m\u001b[38;5;124m\"\u001b[39m\u001b[38;5;124mNumber \u001b[39m\u001b[38;5;132;01m{\u001b[39;00mnum\u001b[38;5;132;01m}\u001b[39;00m\u001b[38;5;124m is \u001b[39m\u001b[38;5;132;01m{\u001b[39;00mparity\u001b[38;5;132;01m}\u001b[39;00m\u001b[38;5;124m. Is it prime? \u001b[39m\u001b[38;5;132;01m{\u001b[39;00mprop_is_prime\u001b[38;5;132;01m}\u001b[39;00m\u001b[38;5;124m.\u001b[39m\u001b[38;5;124m\"\u001b[39m\n\u001b[0;32m---> 23\u001b[0m \u001b[38;5;28mprint\u001b[39m(\u001b[43mdisplay_number_properties\u001b[49m\u001b[43m(\u001b[49m\u001b[38;5;241;43m7\u001b[39;49m\u001b[43m)\u001b[49m)\n\u001b[1;32m     24\u001b[0m \u001b[38;5;28mprint\u001b[39m(display_number_properties(\u001b[38;5;241m10\u001b[39m))\n",
      "Cell \u001b[0;32mIn[6], line 14\u001b[0m, in \u001b[0;36mdisplay_number_properties\u001b[0;34m(num)\u001b[0m\n\u001b[1;32m     12\u001b[0m \u001b[38;5;28;01mdef\u001b[39;00m\u001b[38;5;250m \u001b[39m\u001b[38;5;21mdisplay_number_properties\u001b[39m(num):\n\u001b[1;32m     13\u001b[0m \u001b[38;5;250m    \u001b[39m\u001b[38;5;124;03m\"\"\"Displays properties of a number, conceptually using pymath.\"\"\"\u001b[39;00m\n\u001b[0;32m---> 14\u001b[0m     prop_is_prime \u001b[38;5;241m=\u001b[39m \u001b[43mis_prime\u001b[49m(num)\n\u001b[1;32m     15\u001b[0m     prop_is_prime \u001b[38;5;241m=\u001b[39m is_prime(num)\n\u001b[1;32m     17\u001b[0m     \u001b[38;5;28;01mif\u001b[39;00m num \u001b[38;5;241m%\u001b[39m \u001b[38;5;241m2\u001b[39m \u001b[38;5;241m==\u001b[39m \u001b[38;5;241m0\u001b[39m:\n",
      "\u001b[0;31mNameError\u001b[0m: name 'is_prime' is not defined"
     ]
    }
   ],
   "source": [
    "# Defining a function\n",
    "def greet(name):\n",
    "    \"\"\"This function greets the person passed in as a parameter.\"\"\"\n",
    "    return f\"Hello, {name}!\"\n",
    "\n",
    "print(greet(\"Data Scientist\"))\n",
    "\n",
    "# Function with conceptual pymath usage\n",
    "# Assuming pymath.lib.math is accessible\n",
    " \n",
    "\n",
    "def display_number_properties(num):\n",
    "    \"\"\"Displays properties of a number, conceptually using pymath.\"\"\"\n",
    "    prop_is_prime = is_prime(num)\n",
    "    prop_is_prime = is_prime(num)\n",
    "    \n",
    "    if num % 2 == 0:\n",
    "        parity = \"even\"\n",
    "    else:\n",
    "        parity = \"odd\"\n",
    "    return f\"Number {num} is {parity}. Is it prime? {prop_is_prime}.\"\n",
    "\n",
    "print(display_number_properties(7))\n",
    "print(display_number_properties(10))"
   ]
  },
  {
   "cell_type": "markdown",
   "id": "9392aab2",
   "metadata": {},
   "source": [
    "*   **`pymath` library usage:**\n",
    "    *   Example: Loop to calculate `factorial(n)` for `n` from 0 to 5 using `pymath.lib.math.factorial`. (Conceptual, shown in Control Flow)\n",
    "    *   Example: Define a simple Python function that internally calls a basic `pymath` function (e.g., `is_prime`) and returns a formatted string. (Conceptual, shown in Functions)"
   ]
  },
  {
   "cell_type": "markdown",
   "id": "729099f3",
   "metadata": {},
   "source": [
    "## Part 2: Working with Data & Initial Analysis"
   ]
  },
  {
   "cell_type": "markdown",
   "id": "7553a649",
   "metadata": {},
   "source": [
    "### Section 3: Understanding Data with Descriptive Statistics"
   ]
  },
  {
   "cell_type": "markdown",
   "id": "b2937f7b",
   "metadata": {},
   "source": [
    "*   **Learning Objectives:**\n",
    "    *   Learn how to summarize data using central tendency measures.\n",
    "    *   Understand data spread/dispersion.\n",
    "    *   Grasp the concept of relationships between variables (covariance/correlation)."
   ]
  },
  {
   "cell_type": "markdown",
   "id": "4c6a2db2",
   "metadata": {},
   "source": [
    "*   **Content:**\n",
    "    *   **Introduction to Descriptive Statistics:**\n",
    "        *   What are they and why are they important?"
   ]
  },
  {
   "cell_type": "markdown",
   "id": "ad76644f",
   "metadata": {},
   "source": [
    "    *   **Measures of Central Tendency:**\n",
    "        *   Mean: Average value (theory, formula, example).\n",
    "        *   Median: Middle value (theory, how to find it for odd/even datasets, example).\n",
    "        *   Mode: Most frequent value(s) (theory, example)."
   ]
  },
  {
   "cell_type": "code",
   "execution_count": 7,
   "id": "2c1c9cb6",
   "metadata": {
    "execution": {
     "iopub.execute_input": "2025-06-04T13:59:53.386420Z",
     "iopub.status.busy": "2025-06-04T13:59:53.386069Z",
     "iopub.status.idle": "2025-06-04T13:59:53.399383Z",
     "shell.execute_reply": "2025-06-04T13:59:53.398229Z"
    }
   },
   "outputs": [
    {
     "name": "stdout",
     "output_type": "stream",
     "text": [
      "Sample Data for Central Tendency: [7, 15, 19, 12, 14, 20, 16, 4, 1, 5, 10, 10, 6, 16, 18]\n",
      "Mean: 11.533333333333333\n",
      "Median: 12\n",
      "Sample Data for Mode: [10, 15, 20, 15, 20, 20, 20, 10, 10, 20, 10, 15, 10, 5, 20, 20, 10, 20, 10, 20, 20, 20, 15, 10, 10, 20, 20, 20, 20, 15]\n",
      "Mode: [20]\n"
     ]
    }
   ],
   "source": [
    "from pymath.lib.math import mean, median, mode, variance, standard_deviation, covariance, correlation\n",
    "import random # For generating sample data\n",
    "# Note: Ensure pymath.lib.math is accessible in your Python environment when running the notebook.\n",
    "\n",
    "# Sample data\n",
    "sample_data_ct = [random.randint(0, 20) for _ in range(15)]\n",
    "sample_data_mode = [random.choice([5,10,10,15,15,15,20,20,20,20]) for _ in range(30)] # Data likely to have modes\n",
    "\n",
    "print(f\"Sample Data for Central Tendency: {sample_data_ct}\")\n",
    "print(f\"Mean: {mean(sample_data_ct)}\")\n",
    "print(f\"Median: {median(sample_data_ct)}\")\n",
    "print(f\"Sample Data for Mode: {sample_data_mode}\")\n",
    "print(f\"Mode: {mode(sample_data_mode)}\")"
   ]
  },
  {
   "cell_type": "markdown",
   "id": "79816873",
   "metadata": {},
   "source": [
    "    *   **Measures of Dispersion (Spread):**\n",
    "        *   Range: Difference between max and min (theory, example).\n",
    "        *   Variance: Average of squared differences from the Mean (theory, population vs. sample distinction, example).\n",
    "        *   Standard Deviation: Square root of variance (theory, population vs. sample, example)."
   ]
  },
  {
   "cell_type": "code",
   "execution_count": 8,
   "id": "6e1b8df1",
   "metadata": {
    "execution": {
     "iopub.execute_input": "2025-06-04T13:59:53.403186Z",
     "iopub.status.busy": "2025-06-04T13:59:53.402630Z",
     "iopub.status.idle": "2025-06-04T13:59:53.410571Z",
     "shell.execute_reply": "2025-06-04T13:59:53.409484Z"
    }
   },
   "outputs": [
    {
     "name": "stdout",
     "output_type": "stream",
     "text": [
      "Sample Data for Dispersion: [49.26746849165436, 33.03877266820474, 49.538122031710266, 36.770262650874955, 22.059828709074193, 31.158695621146055, 4.194125665500476, 10.077068988639226, 20.058534483103628, 42.64956686805, 41.722911097693675, 39.71698051691126, 31.812447553611438, 0.8165998233522542, 26.075753041555306, 23.166230110969828, 22.712391166166547, 42.19480676262306, 31.55605005181481, 42.88520259508427]\n",
      "Range: 48.72152220835801\n",
      "Population Variance: 185.66049632408522\n",
      "Sample Variance: 195.4321013937739\n",
      "Population Standard Deviation: 13.625729203388904\n",
      "Sample Standard Deviation: 13.979703194051506\n"
     ]
    }
   ],
   "source": [
    "sample_data_disp = [random.uniform(0, 50) for _ in range(20)]\n",
    "\n",
    "print(f\"Sample Data for Dispersion: {sample_data_disp}\")\n",
    "# Range\n",
    "data_range = max(sample_data_disp) - min(sample_data_disp) if sample_data_disp else 0\n",
    "print(f\"Range: {data_range}\")\n",
    "\n",
    "# Variance\n",
    "pop_variance = variance(sample_data_disp, is_sample=False)\n",
    "sample_var = variance(sample_data_disp, is_sample=True)\n",
    "print(f\"Population Variance: {pop_variance}\")\n",
    "print(f\"Sample Variance: {sample_var}\")\n",
    "\n",
    "# Standard Deviation\n",
    "pop_std_dev = standard_deviation(sample_data_disp, is_sample=False)\n",
    "sample_std_dev = standard_deviation(sample_data_disp, is_sample=True)\n",
    "print(f\"Population Standard Deviation: {pop_std_dev}\")\n",
    "print(f\"Sample Standard Deviation: {sample_std_dev}\")"
   ]
  },
  {
   "cell_type": "markdown",
   "id": "cd4eea83",
   "metadata": {},
   "source": [
    "    *   **Understanding Relationships Between Variables:**\n",
    "        *   Covariance: How two variables change together (theory, positive/negative interpretation, example).\n",
    "        *   Pearson Correlation Coefficient: Standardized measure of linear relationship (-1 to 1) (theory, interpretation, example)."
   ]
  },
  {
   "cell_type": "code",
   "execution_count": 9,
   "id": "92137fd2",
   "metadata": {
    "execution": {
     "iopub.execute_input": "2025-06-04T13:59:53.414245Z",
     "iopub.status.busy": "2025-06-04T13:59:53.413878Z",
     "iopub.status.idle": "2025-06-04T13:59:53.422903Z",
     "shell.execute_reply": "2025-06-04T13:59:53.421928Z"
    }
   },
   "outputs": [
    {
     "name": "stdout",
     "output_type": "stream",
     "text": [
      "Data1: [1, 2, 3, 4, 5, 6, 7, 8, 9, 10]\n",
      "Data2 (Positive Correlation): [0.09788943709169118, 1.0122454953281141, 2.0134117268871696, 3.23655154684607, 4.173815298659532, 6.871963664091158, 7.811124344745979, 8.747494284671184, 8.89460988064298, 9.271080840106842]\n",
      "Data2 (Negative Correlation): [8.128045436768815, 8.470565992882616, 6.829142518784938, 5.370937495410187, 5.6493822283145025, 4.15206710224345, 3.816959804377186, 2.0347628292841224, 1.362519562849112, -0.23222886242086327]\n",
      "Data2 (No Correlation): [9.981670162305175, 5.630055547334289, 8.921171042627257, 8.265129510662193, 0.8081189897419405, 1.0559458915480724, 6.994596389214798, 0.44801268497945856, 6.423104827249384, 1.5102407693287556]\n",
      "Covariance (Positive): 9.391377643619592\n",
      "Covariance (Negative): -7.756497017480788\n",
      "Covariance (No real): -5.831054191407857\n",
      "Correlation (Positive): 0.9811599960837636\n",
      "Correlation (Negative): -0.9840945637221783\n",
      "Correlation (No real): -0.5781928835058779\n"
     ]
    }
   ],
   "source": [
    "# Sample data for relationships\n",
    "data1 = [1, 2, 3, 4, 5, 6, 7, 8, 9, 10]\n",
    "data2_pos_corr = [x + random.uniform(-1, 1) for x in data1] # Positively correlated\n",
    "data2_neg_corr = [10 - x + random.uniform(-1, 1) for x in data1] # Negatively correlated\n",
    "data2_no_corr = [random.uniform(0,10) for _ in range(len(data1))] # Likely no strong correlation\n",
    "\n",
    "print(f\"Data1: {data1}\")\n",
    "print(f\"Data2 (Positive Correlation): {data2_pos_corr}\")\n",
    "print(f\"Data2 (Negative Correlation): {data2_neg_corr}\")\n",
    "print(f\"Data2 (No Correlation): {data2_no_corr}\")\n",
    "\n",
    "# Covariance\n",
    "cov_pos = covariance(data1, data2_pos_corr)\n",
    "cov_neg = covariance(data1, data2_neg_corr)\n",
    "cov_no = covariance(data1, data2_no_corr)\n",
    "print(f\"Covariance (Positive): {cov_pos}\")\n",
    "print(f\"Covariance (Negative): {cov_neg}\")\n",
    "print(f\"Covariance (No real): {cov_no}\")\n",
    "\n",
    "# Correlation\n",
    "corr_pos = correlation(data1, data2_pos_corr)\n",
    "corr_neg = correlation(data1, data2_neg_corr)\n",
    "corr_no = correlation(data1, data2_no_corr)\n",
    "print(f\"Correlation (Positive): {corr_pos}\")\n",
    "print(f\"Correlation (Negative): {corr_neg}\")\n",
    "print(f\"Correlation (No real): {corr_no}\")"
   ]
  },
  {
   "cell_type": "markdown",
   "id": "289117d2",
   "metadata": {},
   "source": [
    "### Section 4: Visualizing Data with Matplotlib"
   ]
  },
  {
   "cell_type": "markdown",
   "id": "023526f5",
   "metadata": {},
   "source": [
    "*   **Learning Objectives:**\n",
    "    *   Learn the basics of plotting with Matplotlib.\n",
    "    *   Create common chart types for data exploration."
   ]
  },
  {
   "cell_type": "markdown",
   "id": "42a046b0",
   "metadata": {},
   "source": [
    "*   **Content:**\n",
    "    *   **Introduction to Matplotlib:**\n",
    "        *   Brief overview of the library.\n",
    "        *   Importing `matplotlib.pyplot as plt`.\n",
    "        *   The `%matplotlib inline` magic command for Jupyter (ensures plots appear in the notebook)."
   ]
  },
  {
   "cell_type": "code",
   "execution_count": 10,
   "id": "75838fda",
   "metadata": {
    "execution": {
     "iopub.execute_input": "2025-06-04T13:59:53.426765Z",
     "iopub.status.busy": "2025-06-04T13:59:53.426222Z",
     "iopub.status.idle": "2025-06-04T13:59:54.498489Z",
     "shell.execute_reply": "2025-06-04T13:59:54.497100Z"
    }
   },
   "outputs": [],
   "source": [
    "import matplotlib.pyplot as plt\n",
    "from pymath.lib.math import fibonacci, mode, mean, median, correlation # For examples\n",
    "import numpy as np # For histogram example data\n",
    "\n",
    "# This magic command is typically used in Jupyter itself. \n",
    "# In a script generating a notebook, it's a standard line of code in a cell.\n",
    "%matplotlib inline"
   ]
  },
  {
   "cell_type": "markdown",
   "id": "00921d09",
   "metadata": {},
   "source": [
    "    *   **Common Plots for Data Exploration:**\n",
    "        *   Line Plot: `plt.plot()`. Useful for showing trends over time or sequence.\n",
    "        *   Bar Chart: `plt.bar()`. Good for comparing categorical data or frequencies.\n",
    "        *   Histogram: `plt.hist()`. Visualizing the distribution of a single numerical variable.\n",
    "        *   Scatter Plot: `plt.scatter()`. Showing the relationship between two numerical variables."
   ]
  },
  {
   "cell_type": "markdown",
   "id": "96a60f10",
   "metadata": {},
   "source": [
    "#### Line Plot Example (Fibonacci Sequence)"
   ]
  },
  {
   "cell_type": "code",
   "execution_count": 11,
   "id": "746a5c07",
   "metadata": {
    "execution": {
     "iopub.execute_input": "2025-06-04T13:59:54.503310Z",
     "iopub.status.busy": "2025-06-04T13:59:54.502527Z",
     "iopub.status.idle": "2025-06-04T13:59:54.732346Z",
     "shell.execute_reply": "2025-06-04T13:59:54.730762Z"
    }
   },
   "outputs": [
    {
     "data": {
      "image/png": "[encoded data removed]",
      "text/plain": [
       "<Figure size 800x400 with 1 Axes>"
      ]
     },
     "metadata": {},
     "output_type": "display_data"
    }
   ],
   "source": [
    "fib_sequence = [fibonacci(n) for n in range(1, 16)] # First 15 Fibonacci numbers\n",
    "plt.figure(figsize=(8, 4)) # Adjusted figure size\n",
    "plt.plot(range(1, 16), fib_sequence, marker='o', linestyle='--')\n",
    "plt.title('First 15 Fibonacci Numbers')\n",
    "plt.xlabel('n-th Number')\n",
    "plt.ylabel('Fibonacci Value F(n)')\n",
    "plt.grid(True)\n",
    "plt.show()"
   ]
  },
  {
   "cell_type": "markdown",
   "id": "4cb4e880",
   "metadata": {},
   "source": [
    "#### Bar Chart Example (Mode Frequencies)"
   ]
  },
  {
   "cell_type": "code",
   "execution_count": 12,
   "id": "241c2589",
   "metadata": {
    "execution": {
     "iopub.execute_input": "2025-06-04T13:59:54.736757Z",
     "iopub.status.busy": "2025-06-04T13:59:54.736060Z",
     "iopub.status.idle": "2025-06-04T13:59:54.878137Z",
     "shell.execute_reply": "2025-06-04T13:59:54.876817Z"
    }
   },
   "outputs": [
    {
     "name": "stdout",
     "output_type": "stream",
     "text": [
      "Mode(s): [5]\n"
     ]
    },
    {
     "data": {
      "image/png": "[encoded data removed]",
      "text/plain": [
       "<Figure size 800x400 with 1 Axes>"
      ]
     },
     "metadata": {},
     "output_type": "display_data"
    }
   ],
   "source": [
    "from collections import Counter # For frequency counting\n",
    "\n",
    "data_for_mode_plot = [1, 2, 2, 3, 3, 3, 4, 4, 4, 4, 5, 5, 5, 5, 5]\n",
    "modes = mode(data_for_mode_plot) # Using pymath.mode\n",
    "print(f\"Mode(s): {modes}\")\n",
    "\n",
    "counts = Counter(data_for_mode_plot)\n",
    "plt.figure(figsize=(8, 4)) # Adjusted figure size\n",
    "plt.bar(counts.keys(), counts.values(), color='skyblue')\n",
    "plt.title('Frequency of Numbers (Mode Example)')\n",
    "plt.xlabel('Number')\n",
    "plt.ylabel('Frequency')\n",
    "plt.xticks(list(counts.keys())) # Ensure all numbers are shown as ticks\n",
    "plt.show()"
   ]
  },
  {
   "cell_type": "markdown",
   "id": "a0d74a39",
   "metadata": {},
   "source": [
    "#### Histogram Example (Data Distribution)"
   ]
  },
  {
   "cell_type": "code",
   "execution_count": 13,
   "id": "ad2812dc",
   "metadata": {
    "execution": {
     "iopub.execute_input": "2025-06-04T13:59:54.881613Z",
     "iopub.status.busy": "2025-06-04T13:59:54.881277Z",
     "iopub.status.idle": "2025-06-04T13:59:55.207377Z",
     "shell.execute_reply": "2025-06-04T13:59:55.206107Z"
    }
   },
   "outputs": [
    {
     "data": {
      "image/png": "[encoded data removed]",
      "text/plain": [
       "<Figure size 800x400 with 1 Axes>"
      ]
     },
     "metadata": {},
     "output_type": "display_data"
    }
   ],
   "source": [
    "# Generate some sample data (e.g., normally distributed)\n",
    "np.random.seed(42) # for reproducibility\n",
    "hist_data = np.random.normal(loc=20, scale=5, size=100)\n",
    "\n",
    "mean_val = mean(hist_data.tolist()) # Use pymath.mean\n",
    "median_val = median(hist_data.tolist()) # Use pymath.median\n",
    "\n",
    "plt.figure(figsize=(8, 4)) # Adjusted figure size\n",
    "plt.hist(hist_data, bins=10, edgecolor='black', alpha=0.7)\n",
    "plt.axvline(mean_val, color='red', linestyle='dashed', linewidth=2, label=f'Mean: {mean_val:.2f}')\n",
    "plt.axvline(median_val, color='green', linestyle='dashed', linewidth=2, label=f'Median: {median_val:.2f}')\n",
    "plt.title('Distribution of Sample Data')\n",
    "plt.xlabel('Value')\n",
    "plt.ylabel('Frequency')\n",
    "plt.legend()\n",
    "plt.grid(True, axis='y')\n",
    "plt.show()"
   ]
  },
  {
   "cell_type": "markdown",
   "id": "1f745f29",
   "metadata": {},
   "source": [
    "#### Scatter Plot Example (Relationship for Correlation)"
   ]
  },
  {
   "cell_type": "code",
   "execution_count": 14,
   "id": "4167ebd1",
   "metadata": {
    "execution": {
     "iopub.execute_input": "2025-06-04T13:59:55.211540Z",
     "iopub.status.busy": "2025-06-04T13:59:55.211091Z",
     "iopub.status.idle": "2025-06-04T13:59:55.371201Z",
     "shell.execute_reply": "2025-06-04T13:59:55.369940Z"
    }
   },
   "outputs": [
    {
     "data": {
      "image/png": "[encoded data removed]",
      "text/plain": [
       "<Figure size 800x400 with 1 Axes>"
      ]
     },
     "metadata": {},
     "output_type": "display_data"
    }
   ],
   "source": [
    "scatter_data1 = [1, 2, 3, 4, 5, 6, 7, 8, 9, 10]\n",
    "scatter_data2_pos = [x + random.uniform(-2, 2) for x in scatter_data1]\n",
    "corr_val = correlation(scatter_data1, scatter_data2_pos) # Using pymath.correlation\n",
    "\n",
    "plt.figure(figsize=(8, 4)) # Adjusted figure size\n",
    "plt.scatter(scatter_data1, scatter_data2_pos, color='coral')\n",
    "# plt.title(f'Scatter Plot of Two Variables (Correlation: {corr_val:.2f})')\n",
    "plt.title(f'Scatter Plot of Two Variables (Correlation: {corr_val:.2f})') # Title without correlation for now\n",
    "plt.xlabel('Variable 1')\n",
    "plt.ylabel('Variable 2')\n",
    "plt.grid(True)\n",
    "plt.show()"
   ]
  },
  {
   "cell_type": "markdown",
   "id": "82dbc743",
   "metadata": {},
   "source": [
    "    *   **Customizing Plots:**\n",
    "        *   Adding titles: `plt.title()`.\n",
    "        *   Labeling axes: `plt.xlabel()`, `plt.ylabel()`.\n",
    "        *   Adding legends: `plt.legend()`.\n",
    "        *   Changing colors and markers.\n",
    "        *   Adjusting figure size: `plt.figure(figsize=(width, height))`."
   ]
  },
  {
   "cell_type": "markdown",
   "id": "f8ac4e4a",
   "metadata": {},
   "source": [
    "### Section 5: Exploratory Data Analysis (EDA) in Action"
   ]
  },
  {
   "cell_type": "markdown",
   "id": "8e1208cf",
   "metadata": {},
   "source": [
    "*   **Learning Objectives:**\n",
    "    *   Understand the goals and process of EDA.\n",
    "    *   Apply statistical and visualization techniques to explore a dataset."
   ]
  },
  {
   "cell_type": "markdown",
   "id": "30562154",
   "metadata": {},
   "source": [
    "*   **Content:**\n",
    "    *   **What is EDA?**\n",
    "        *   Its importance in the data science lifecycle.\n",
    "        *   Goals: Understanding data properties, finding patterns, identifying anomalies, formulating hypotheses."
   ]
  },
  {
   "cell_type": "markdown",
   "id": "5864bf68",
   "metadata": {},
   "source": [
    "    *   **Key Steps in EDA (Simplified for this notebook):**\n",
    "        *   Data Representation: We'll use Python lists and dictionaries to represent our small datasets.\n",
    "        *   Initial Data Inspection:\n",
    "            *   Understanding the \"shape\" (number of entries, number of features - conceptual).\n",
    "            *   Understanding data types (numbers, categories - conceptual).\n",
    "        *   Handling Missing Data (Conceptual Discussion):\n",
    "            *   Briefly explain why it's an issue.\n",
    "            *   Common strategies: Imputation (e.g., with mean/median), removal. (No implementation here).\n",
    "        *   Identifying Outliers (Conceptual Discussion & Visual Inspection):\n",
    "            *   What are outliers?\n",
    "            *   Visual inspection using plots like box plots (mention) or scatter plots.\n",
    "        *   Univariate Analysis: Analyzing single variables.\n",
    "            *   Using descriptive statistics (`mean`, `median`, `mode`, `variance`, `std_dev`).\n",
    "            *   Using visualizations (histograms, bar charts for categorical data).\n",
    "        *   Bivariate Analysis: Analyzing relationships between two variables.\n",
    "            *   Using statistics (`correlation`, `covariance`).\n",
    "            *   Using visualizations (scatter plots)."
   ]
  },
  {
   "cell_type": "markdown",
   "id": "b2d31700",
   "metadata": {},
   "source": [
    "    *   **Mini Case Study:**\n",
    "        *   Let's create a small dataset representing scores of students in two subjects and their study hours."
   ]
  },
  {
   "cell_type": "code",
   "execution_count": 15,
   "id": "0317ebd2",
   "metadata": {
    "execution": {
     "iopub.execute_input": "2025-06-04T13:59:55.375321Z",
     "iopub.status.busy": "2025-06-04T13:59:55.374934Z",
     "iopub.status.idle": "2025-06-04T13:59:55.707366Z",
     "shell.execute_reply": "2025-06-04T13:59:55.706245Z"
    }
   },
   "outputs": [
    {
     "name": "stdout",
     "output_type": "stream",
     "text": [
      "Student Data (First 3 students):\n",
      "ID: 1, StudyHours: 2, Math: 60, Science: 65\n",
      "ID: 2, StudyHours: 3, Math: 65, Science: 70\n",
      "ID: 3, StudyHours: 1, Math: 50, Science: 55\n",
      "\n",
      "Study Hours Stats:\n",
      "  Mean: 3.50\n",
      "  Median: 3.50\n",
      "  Mode: [2, 3, 4, 5]\n",
      "  Std Dev: 1.50\n"
     ]
    },
    {
     "data": {
      "image/png": "[encoded data removed]",
      "text/plain": [
       "<Figure size 600x300 with 1 Axes>"
      ]
     },
     "metadata": {},
     "output_type": "display_data"
    },
    {
     "data": {
      "image/png": "[encoded data removed]",
      "text/plain": [
       "<Figure size 600x300 with 1 Axes>"
      ]
     },
     "metadata": {},
     "output_type": "display_data"
    }
   ],
   "source": [
    "# Mini Case Study Dataset\n",
    "students_data = {\n",
    "    'StudentID': list(range(1, 11)),\n",
    "    'StudyHours': [2, 3, 1, 5, 4, 3, 2, 6, 5, 4], # Hours per week\n",
    "    'MathScore': [60, 65, 50, 85, 75, 70, 55, 90, 80, 72],\n",
    "    'ScienceScore': [65, 70, 55, 90, 80, 72, 60, 95, 85, 78]\n",
    "}\n",
    "\n",
    "print(\"Student Data (First 3 students):\")\n",
    "for i in range(3):\n",
    "    print(f\"ID: {students_data['StudentID'][i]}, StudyHours: {students_data['StudyHours'][i]}, Math: {students_data['MathScore'][i]}, Science: {students_data['ScienceScore'][i]}\")\n",
    "\n",
    "# Univariate Analysis: StudyHours\n",
    "study_hours = students_data['StudyHours']\n",
    "print(f\"\\nStudy Hours Stats:\")\n",
    "print(f\"  Mean: {mean(study_hours):.2f}\")\n",
    "print(f\"  Median: {median(study_hours):.2f}\")\n",
    "print(f\"  Mode: {mode(study_hours)}\")\n",
    "print(f\"  Std Dev: {standard_deviation(study_hours):.2f}\")\n",
    "\n",
    "plt.figure(figsize=(6,3))\n",
    "plt.hist(study_hours, bins=5, edgecolor='black', alpha=0.7)\n",
    "plt.title('Distribution of Study Hours')\n",
    "plt.xlabel('Hours')\n",
    "plt.ylabel('Number of Students')\n",
    "plt.show()\n",
    "\n",
    "# Bivariate Analysis: StudyHours vs. MathScore\n",
    "math_scores = students_data['MathScore']\n",
    "corr_study_math = correlation(study_hours, math_scores)\n",
    "\n",
    "plt.figure(figsize=(6,3))\n",
    "plt.scatter(study_hours, math_scores)\n",
    "plt.title(f'Study Hours vs. Math Score (Correlation: {corr_study_math:.2f})')\n",
    "plt.xlabel('Study Hours')\n",
    "plt.ylabel('Math Score')\n",
    "plt.grid(True)\n",
    "plt.show()"
   ]
  },
  {
   "cell_type": "markdown",
   "id": "f593e8cb",
   "metadata": {},
   "source": [
    "## Part 3: Venturing into Machine Learning"
   ]
  },
  {
   "cell_type": "markdown",
   "id": "67688cbf",
   "metadata": {},
   "source": [
    "### Section 6: Fundamental Machine Learning Concepts"
   ]
  },
  {
   "cell_type": "markdown",
   "id": "92bc25bc",
   "metadata": {},
   "source": [
    "*   **Learning Objectives:**\n",
    "    *   Differentiate between major types of ML.\n",
    "    *   Understand the basic workflow of building an ML model."
   ]
  },
  {
   "cell_type": "markdown",
   "id": "c4da1abd",
   "metadata": {},
   "source": [
    "*   **Content:**\n",
    "    *   **What is Machine Learning?**\n",
    "        *   Definition: Algorithms that allow computers to learn from data without being explicitly programmed."
   ]
  },
  {
   "cell_type": "markdown",
   "id": "fc849275",
   "metadata": {},
   "source": [
    "    *   **Types of Machine Learning:**\n",
    "        *   Supervised Learning: Learning from labeled data.\n",
    "            *   Regression: Predicting continuous values (e.g., house prices).\n",
    "            *   Classification: Predicting discrete categories (e.g., spam vs. not spam).\n",
    "        *   Unsupervised Learning: Learning from unlabeled data.\n",
    "            *   Clustering: Grouping similar data points (e.g., customer segmentation).\n",
    "            *   Association Rule Mining: Finding relationships between items (e.g., market basket analysis - brief mention).\n",
    "        *   Reinforcement Learning: Learning through trial and error with rewards/penalties (very brief concept, e.g., game playing AI)."
   ]
  },
  {
   "cell_type": "markdown",
   "id": "448b41dc",
   "metadata": {},
   "source": [
    "    *   **Key Terminology:**\n",
    "        *   Features (Input Variables): The data attributes used for prediction.\n",
    "        *   Labels/Targets (Output Variables): The value or category to be predicted in supervised learning.\n",
    "        *   Training Data: Data used to \"teach\" the model.\n",
    "        *   Test Data: Data used to evaluate the model's performance on unseen data."
   ]
  },
  {
   "cell_type": "markdown",
   "id": "2e148547",
   "metadata": {},
   "source": [
    "    *   **The Modeling Process (Conceptual Overview):**\n",
    "        *   Data Splitting: Dividing data into training and testing sets.\n",
    "        *   Model Training: The algorithm learns patterns from the training data.\n",
    "        *   Prediction/Inference: Using the trained model to make predictions on new data.\n",
    "        *   Model Evaluation: Measuring how well the model performs (e.g., accuracy for classification, error metrics for regression - conceptual)."
   ]
  },
  {
   "cell_type": "markdown",
   "id": "52619658",
   "metadata": {},
   "source": [
    "    *   **Overfitting and Underfitting:**\n",
    "        *   Intuitive explanation: Model too complex (overfitting - memorizes training data) vs. model too simple (underfitting - fails to capture patterns)."
   ]
  },
  {
   "cell_type": "markdown",
   "id": "4e5e04fc",
   "metadata": {},
   "source": [
    "### Section 7: A Gentle Introduction to a Simple Algorithm: k-Nearest Neighbors (k-NN)"
   ]
  },
  {
   "cell_type": "markdown",
   "id": "c53a3327",
   "metadata": {},
   "source": [
    "*   **Learning Objectives:**\n",
    "    *   Understand the intuition behind k-NN.\n",
    "    *   Implement a basic k-NN for classification."
   ]
  },
  {
   "cell_type": "markdown",
   "id": "5a9d3e71",
   "metadata": {},
   "source": [
    "*   **Content:**\n",
    "    *   **How k-NN Works:**\n",
    "        *   Analogy (e.g., \"birds of a feather flock together\").\n",
    "        *   Importance of a distance metric.\n",
    "        *   The role of 'k' (number of neighbors) and how it affects the prediction."
   ]
  },
  {
   "cell_type": "markdown",
   "id": "e5f85200",
   "metadata": {},
   "source": [
    "    *   **Step-by-Step k-NN for Classification (from scratch):**\n",
    "        1.  Choose a value for `k`.\n",
    "        2.  For a new, unseen data point:\n",
    "            a.  Calculate the distance (e.g., Euclidean) from the new point to every point in the training dataset.\n",
    "            b.  Select the `k` training data points that are closest (the \"neighbors\").\n",
    "            c.  Determine the most frequent class among these `k` neighbors.\n",
    "            d.  Assign this majority class as the prediction for the new data point."
   ]
  },
  {
   "cell_type": "code",
   "execution_count": 16,
   "id": "2866f874",
   "metadata": {
    "execution": {
     "iopub.execute_input": "2025-06-04T13:59:55.711939Z",
     "iopub.status.busy": "2025-06-04T13:59:55.711599Z",
     "iopub.status.idle": "2025-06-04T13:59:56.030597Z",
     "shell.execute_reply": "2025-06-04T13:59:56.029286Z"
    }
   },
   "outputs": [
    {
     "name": "stdout",
     "output_type": "stream",
     "text": [
      "The query point [4, 4] is predicted as class: 0\n"
     ]
    },
    {
     "data": {
      "image/png": "[encoded data removed]",
      "text/plain": [
       "<Figure size 600x400 with 1 Axes>"
      ]
     },
     "metadata": {},
     "output_type": "display_data"
    }
   ],
   "source": [
    "from pymath.lib.math import euclidean_distance, mode \n",
    "# Alternatively, for mode with non-numeric labels, collections.Counter is good.\n",
    "# pymath.mode is designed for list[float], so for class labels, Counter is more general.\n",
    "from collections import Counter\n",
    "import matplotlib.pyplot as plt\n",
    "import numpy as np # For sample data generation\n",
    "\n",
    "def knn_predict(training_features, training_labels, query_point, k):\n",
    "    \"\"\"Predicts the class of a query point using k-NN.\"\"\"\n",
    "    distances = []\n",
    "    for i, train_point in enumerate(training_features):\n",
    "        dist = euclidean_distance(query_point, train_point)\n",
    "        distances.append((dist, training_labels[i]))\n",
    "    \n",
    "    # Sort by distance and take the k nearest\n",
    "    distances.sort(key=lambda x: x[0])\n",
    "    neighbors = distances[:k]\n",
    "    \n",
    "    # Get the labels of the k nearest neighbors\n",
    "    neighbor_labels = [neighbor[1] for neighbor in neighbors]\n",
    "    \n",
    "    # Find the most common class among neighbors\n",
    "    # Using collections.Counter for flexibility with label types\n",
    "    most_common = Counter(neighbor_labels).most_common(1)\n",
    "    return most_common[0][0]\n",
    "\n",
    "# Sample 2D training data\n",
    "# Features: [X, Y]\n",
    "# Labels: 0 or 1\n",
    "X_train = [[1, 2], [2, 3], [3, 1], [6, 5], [7, 8], [8, 6]]\n",
    "y_train = [0, 0, 0, 1, 1, 1] # Two classes\n",
    "\n",
    "# New point to classify\n",
    "query = [4, 4]\n",
    "k_value = 3\n",
    "\n",
    "predicted_class = knn_predict(X_train, y_train, query, k_value)\n",
    "print(f\"The query point {query} is predicted as class: {predicted_class}\")\n",
    "\n",
    "# Visualization (Optional but good for 2D)\n",
    "plt.figure(figsize=(6,4))\n",
    "# Plot training data\n",
    "for i, point in enumerate(X_train):\n",
    "    plt.scatter(point[0], point[1], color='blue' if y_train[i] == 0 else 'red', marker='o', label=f'Class {y_train[i]}' if i == 0 or y_train[i] != y_train[i-1] else \"\")\n",
    "\n",
    "plt.scatter(query[0], query[1], color='green', marker='x', s=100, label='Query Point')\n",
    "plt.title(f'k-NN Classification (k={k_value}) - Predicted: Class {predicted_class}')\n",
    "plt.xlabel('Feature 1')\n",
    "plt.ylabel('Feature 2')\n",
    "# Create legend entries manually for classes if not all present or to avoid duplicates\n",
    "handles, labels = plt.gca().get_legend_handles_labels()\n",
    "by_label = dict(zip(labels, handles)) # Remove duplicate labels\n",
    "plt.legend(by_label.values(), by_label.keys())\n",
    "plt.grid(True)\n",
    "plt.show()"
   ]
  },
  {
   "cell_type": "markdown",
   "id": "b615f563",
   "metadata": {},
   "source": [
    "### Section 8: Connecting `pymath` Functions to ML Ideas"
   ]
  },
  {
   "cell_type": "markdown",
   "id": "8eb50e7b",
   "metadata": {},
   "source": [
    "*   **Learning Objectives:**\n",
    "    *   See how some `pymath` functions relate to ML concepts."
   ]
  },
  {
   "cell_type": "markdown",
   "id": "b07238d9",
   "metadata": {},
   "source": [
    "*   **Content:**\n",
    "    *   **Activation Functions in Neural Networks (Conceptual):**\n",
    "        *   Briefly explain what an activation function is (introduces non-linearity)."
   ]
  },
  {
   "cell_type": "code",
   "execution_count": 17,
   "id": "10c5d4b2",
   "metadata": {
    "execution": {
     "iopub.execute_input": "2025-06-04T13:59:56.034793Z",
     "iopub.status.busy": "2025-06-04T13:59:56.034426Z",
     "iopub.status.idle": "2025-06-04T13:59:56.412382Z",
     "shell.execute_reply": "2025-06-04T13:59:56.411342Z"
    }
   },
   "outputs": [
    {
     "data": {
      "image/png": "[encoded data removed]",
      "text/plain": [
       "<Figure size 1000x300 with 2 Axes>"
      ]
     },
     "metadata": {},
     "output_type": "display_data"
    },
    {
     "name": "stdout",
     "output_type": "stream",
     "text": [
      "Sigmoid: Used in output layers for binary classification (outputs probabilities).\n",
      "ReLU: Common in hidden layers of neural networks due to its simplicity and efficiency.\n"
     ]
    }
   ],
   "source": [
    "from pymath.lib.math import sigmoid, relu\n",
    "import numpy as np\n",
    "import matplotlib.pyplot as plt\n",
    "%matplotlib inline\n",
    "\n",
    "x_vals = np.linspace(-5, 5, 100)\n",
    "\n",
    "# Sigmoid\n",
    "y_sigmoid = [sigmoid(x) for x in x_vals]\n",
    "plt.figure(figsize=(10, 3))\n",
    "plt.subplot(1, 2, 1)\n",
    "plt.plot(x_vals, y_sigmoid)\n",
    "plt.title('Sigmoid Activation Function')\n",
    "plt.xlabel('x')\n",
    "plt.ylabel('sigmoid(x)')\n",
    "plt.grid(True)\n",
    "\n",
    "# ReLU\n",
    "y_relu = [relu(x) for x in x_vals]\n",
    "plt.subplot(1, 2, 2)\n",
    "plt.plot(x_vals, y_relu)\n",
    "plt.title('ReLU Activation Function')\n",
    "plt.xlabel('x')\n",
    "plt.ylabel('relu(x)')\n",
    "plt.grid(True)\n",
    "\n",
    "plt.tight_layout()\n",
    "plt.show()\n",
    "\n",
    "print(\"Sigmoid: Used in output layers for binary classification (outputs probabilities).\")\n",
    "print(\"ReLU: Common in hidden layers of neural networks due to its simplicity and efficiency.\")"
   ]
  },
  {
   "cell_type": "markdown",
   "id": "e18b76b0",
   "metadata": {},
   "source": [
    "    *   **Output Transformation for Multi-class Classification:**\n",
    "        *   `softmax(vector)`: Explain its role in converting raw scores (logits) from a neural network's output layer into a probability distribution over multiple classes."
   ]
  },
  {
   "cell_type": "code",
   "execution_count": 18,
   "id": "e28e09f9",
   "metadata": {
    "execution": {
     "iopub.execute_input": "2025-06-04T13:59:56.415820Z",
     "iopub.status.busy": "2025-06-04T13:59:56.415477Z",
     "iopub.status.idle": "2025-06-04T13:59:56.569086Z",
     "shell.execute_reply": "2025-06-04T13:59:56.567884Z"
    }
   },
   "outputs": [
    {
     "name": "stdout",
     "output_type": "stream",
     "text": [
      "Original Scores (Logits): [2.0, 1.0, 0.1, 3.0]\n",
      "Softmax Probabilities: [0.23608682003817827, 0.08685148742358789, 0.03531117968977305, 0.6417505128484607]\n",
      "Sum of Probabilities: 1.00\n"
     ]
    },
    {
     "data": {
      "image/png": "[encoded data removed]",
      "text/plain": [
       "<Figure size 600x300 with 1 Axes>"
      ]
     },
     "metadata": {},
     "output_type": "display_data"
    }
   ],
   "source": [
    "from pymath.lib.math import softmax\n",
    "import matplotlib.pyplot as plt\n",
    "\n",
    "sample_scores = [2.0, 1.0, 0.1, 3.0] # Example logits\n",
    "softmax_probs = softmax(sample_scores)\n",
    "\n",
    "print(f\"Original Scores (Logits): {sample_scores}\")\n",
    "print(f\"Softmax Probabilities: {softmax_probs}\")\n",
    "print(f\"Sum of Probabilities: {sum(softmax_probs):.2f}\") # Should be close to 1.0\n",
    "\n",
    "plt.figure(figsize=(6,3))\n",
    "plt.bar([f'Class {i+1}' for i in range(len(sample_scores))], softmax_probs, color='skyblue')\n",
    "plt.title('Softmax Output Probabilities')\n",
    "plt.xlabel('Class')\n",
    "plt.ylabel('Probability')\n",
    "plt.show()"
   ]
  },
  {
   "cell_type": "markdown",
   "id": "595076c1",
   "metadata": {},
   "source": [
    "    *   **Feature Scaling:**\n",
    "        *   `normalize(data)` (Min-Max Scaling): Explain why feature scaling is important for distance-based algorithms (like k-NN) and gradient-based algorithms. Show an example of its application."
   ]
  },
  {
   "cell_type": "code",
   "execution_count": 19,
   "id": "a5f5fca1",
   "metadata": {
    "execution": {
     "iopub.execute_input": "2025-06-04T13:59:56.572901Z",
     "iopub.status.busy": "2025-06-04T13:59:56.572549Z",
     "iopub.status.idle": "2025-06-04T13:59:56.578586Z",
     "shell.execute_reply": "2025-06-04T13:59:56.577569Z"
    }
   },
   "outputs": [
    {
     "name": "stdout",
     "output_type": "stream",
     "text": [
      "Original Data: [0, 10, 20, 50, 100, 200]\n",
      "Min-Max Normalized Data (to [0,1]): [0.0, 0.05, 0.1, 0.25, 0.5, 1.0]\n"
     ]
    }
   ],
   "source": [
    "from pymath.lib.math import normalize\n",
    "\n",
    "data_for_scaling = [0, 10, 20, 50, 100, 200]\n",
    "normalized_scaled_data = normalize(data_for_scaling)\n",
    "\n",
    "print(f\"Original Data: {data_for_scaling}\")\n",
    "print(f\"Min-Max Normalized Data (to [0,1]): {normalized_scaled_data}\")\n",
    "\n",
    "# Example of how it might affect distances (conceptual)\n",
    "# Consider points (0, 1) and (100, 10)\n",
    "# Original Euclidean distance: sqrt((100-0)^2 + (10-1)^2) = sqrt(10000 + 81) = sqrt(10081) approx 100.4\n",
    "# If we normalize [0, 100] to [0,1] and [1,10] to [0,1] (independently)\n",
    "# Normalized points: (0,0) and (1,1)\n",
    "# New Euclidean distance: sqrt((1-0)^2 + (1-0)^2) = sqrt(2) approx 1.41\n",
    "# This shows how scaling can change the influence of features in distance calculations."
   ]
  },
  {
   "cell_type": "markdown",
   "id": "6d03c9a9",
   "metadata": {},
   "source": [
    "    *   **Information Theory in Machine Learning (Conceptual):**\n",
    "        *   `entropy(probabilities)`: Briefly link to its use in decision trees (information gain) or as a component of loss functions.\n",
    "        *   `cross_entropy(p, q)`: Conceptually explain its role as a common loss function in classification tasks, measuring the difference between predicted and true probability distributions.\n",
    "        *   `kl_divergence(p, q)`: Briefly mention its use in comparing probability distributions, e.g., in generative models or reinforcement learning (conceptual)."
   ]
  },
  {
   "cell_type": "code",
   "execution_count": 20,
   "id": "961c3136",
   "metadata": {
    "execution": {
     "iopub.execute_input": "2025-06-04T13:59:56.582241Z",
     "iopub.status.busy": "2025-06-04T13:59:56.581874Z",
     "iopub.status.idle": "2025-06-04T13:59:56.591015Z",
     "shell.execute_reply": "2025-06-04T13:59:56.590088Z"
    }
   },
   "outputs": [
    {
     "name": "stdout",
     "output_type": "stream",
     "text": [
      "Entropy of a fair coin flip: 1.00 bits\n",
      "Entropy of a certain event: 0.00 bits\n",
      "\n",
      "True distribution p: [0.1, 0.6, 0.3]\n",
      "Prediction 1 q1: [0.2, 0.5, 0.3]\n",
      "Prediction 2 q2: [0.7, 0.1, 0.2]\n",
      "Cross-Entropy H(p, q1): 1.35 (lower is better)\n",
      "Cross-Entropy H(p, q2): 2.74 (higher means worse prediction)\n",
      "KL Divergence D_KL(p || q1): 0.06 (lower means distributions are more similar)\n",
      "KL Divergence D_KL(p || q2): 1.45 (higher means distributions are less similar)\n"
     ]
    }
   ],
   "source": [
    "from pymath.lib.math import entropy, cross_entropy, kl_divergence\n",
    "\n",
    "# Example for Entropy\n",
    "prob_dist_fair_coin = [0.5, 0.5]\n",
    "print(f\"Entropy of a fair coin flip: {entropy(prob_dist_fair_coin):.2f} bits\")\n",
    "\n",
    "prob_dist_certain = [1.0, 0.0, 0.0]\n",
    "print(f\"Entropy of a certain event: {entropy(prob_dist_certain):.2f} bits\")\n",
    "\n",
    "# Example for Cross-Entropy & KL-Divergence (conceptual illustration)\n",
    "p_true = [0.1, 0.6, 0.3]\n",
    "q_pred1 = [0.2, 0.5, 0.3] # A good prediction\n",
    "q_pred2 = [0.7, 0.1, 0.2] # A poor prediction\n",
    "\n",
    "print(f\"\\nTrue distribution p: {p_true}\")\n",
    "print(f\"Prediction 1 q1: {q_pred1}\")\n",
    "print(f\"Prediction 2 q2: {q_pred2}\")\n",
    "\n",
    "ce_pq1 = cross_entropy(p_true, q_pred1)\n",
    "ce_pq2 = cross_entropy(p_true, q_pred2)\n",
    "print(f\"Cross-Entropy H(p, q1): {ce_pq1:.2f} (lower is better)\")\n",
    "print(f\"Cross-Entropy H(p, q2): {ce_pq2:.2f} (higher means worse prediction)\")\n",
    "\n",
    "kl_pq1 = kl_divergence(p_true, q_pred1)\n",
    "kl_pq2 = kl_divergence(p_true, q_pred2)\n",
    "print(f\"KL Divergence D_KL(p || q1): {kl_pq1:.2f} (lower means distributions are more similar)\")\n",
    "print(f\"KL Divergence D_KL(p || q2): {kl_pq2:.2f} (higher means distributions are less similar)\")"
   ]
  },
  {
   "cell_type": "markdown",
   "id": "9d6d635f",
   "metadata": {},
   "source": [
    "## Part 4: Putting It Together & Next Steps"
   ]
  },
  {
   "cell_type": "markdown",
   "id": "4263bd6e",
   "metadata": {},
   "source": [
    "### Section 9: Mini-Project: Classifying Simple Data"
   ]
  },
  {
   "cell_type": "markdown",
   "id": "5e8a5b7d",
   "metadata": {},
   "source": [
    "*   **Learning Objectives:**\n",
    "    *   Apply the learned EDA and k-NN concepts to a slightly larger (but still small) dataset."
   ]
  },
  {
   "cell_type": "markdown",
   "id": "76996eb4",
   "metadata": {},
   "source": [
    "*   **Content:**\n",
    "    *   **Introduction to the Project:**\n",
    "        *   In this mini-project, we'll create a simple dataset of imaginary fruits based on two features: 'width' and 'height'. \n",
    "        *   Our goal is to classify these fruits into two categories (e.g., 'Type A' and 'Type B') using our k-NN algorithm."
   ]
  },
  {
   "cell_type": "markdown",
   "id": "8858fa0a",
   "metadata": {},
   "source": [
    "#### Dataset Creation"
   ]
  },
  {
   "cell_type": "code",
   "execution_count": 21,
   "id": "5d641d94",
   "metadata": {
    "execution": {
     "iopub.execute_input": "2025-06-04T13:59:56.594908Z",
     "iopub.status.busy": "2025-06-04T13:59:56.594533Z",
     "iopub.status.idle": "2025-06-04T13:59:56.600020Z",
     "shell.execute_reply": "2025-06-04T13:59:56.599154Z"
    }
   },
   "outputs": [
    {
     "name": "stdout",
     "output_type": "stream",
     "text": [
      "Sample dataset created.\n"
     ]
    }
   ],
   "source": [
    "# Simplified Dataset Creation\n",
    "all_features = [[2,3],[3,4],[4,5],[5,6],[6,7]]\n",
    "all_labels = [0,0,0,1,1]\n",
    "print(\"Sample dataset created.\")"
   ]
  },
  {
   "cell_type": "markdown",
   "id": "02cd8220",
   "metadata": {},
   "source": [
    "#### EDA on the Project Data"
   ]
  },
  {
   "cell_type": "code",
   "execution_count": 22,
   "id": "712562bd",
   "metadata": {
    "execution": {
     "iopub.execute_input": "2025-06-04T13:59:56.603459Z",
     "iopub.status.busy": "2025-06-04T13:59:56.603129Z",
     "iopub.status.idle": "2025-06-04T13:59:56.608967Z",
     "shell.execute_reply": "2025-06-04T13:59:56.607828Z"
    }
   },
   "outputs": [
    {
     "name": "stdout",
     "output_type": "stream",
     "text": [
      "EDA would go here. For debugging, this cell is simplified.\n"
     ]
    }
   ],
   "source": [
    "# Simplified EDA\n",
    "# from pymath.lib.math import mean\n",
    "# import matplotlib.pyplot as plt\n",
    "# %matplotlib inline\n",
    "print(\"EDA would go here. For debugging, this cell is simplified.\")\n",
    "widths = [f[0] for f in all_features]\n",
    "# plt.scatter(widths, [f[1] for f in all_features], c=all_labels)\n",
    "# plt.title('Simplified Fruit Dataset')\n",
    "# plt.show()"
   ]
  },
  {
   "cell_type": "markdown",
   "id": "07bcd8b5",
   "metadata": {},
   "source": [
    "#### Training/Test Split (Conceptual & Manual)\n",
    "*   Simple manual split."
   ]
  },
  {
   "cell_type": "code",
   "execution_count": 23,
   "id": "bd5d89fd",
   "metadata": {
    "execution": {
     "iopub.execute_input": "2025-06-04T13:59:56.613077Z",
     "iopub.status.busy": "2025-06-04T13:59:56.612614Z",
     "iopub.status.idle": "2025-06-04T13:59:56.618842Z",
     "shell.execute_reply": "2025-06-04T13:59:56.617593Z"
    }
   },
   "outputs": [
    {
     "name": "stdout",
     "output_type": "stream",
     "text": [
      "Training: 3, Test: 2\n"
     ]
    }
   ],
   "source": [
    "# Simplified Train/Test Split\n",
    "X_train_proj = all_features[:3]\n",
    "y_train_proj = all_labels[:3]\n",
    "X_test_proj = all_features[3:]\n",
    "y_test_proj = all_labels[3:]\n",
    "print(f\"Training: {len(X_train_proj)}, Test: {len(X_test_proj)}\")"
   ]
  },
  {
   "cell_type": "markdown",
   "id": "0df12167",
   "metadata": {},
   "source": [
    "#### Applying k-NN"
   ]
  },
  {
   "cell_type": "code",
   "execution_count": 24,
   "id": "8070dc20",
   "metadata": {
    "execution": {
     "iopub.execute_input": "2025-06-04T13:59:56.623086Z",
     "iopub.status.busy": "2025-06-04T13:59:56.622553Z",
     "iopub.status.idle": "2025-06-04T13:59:56.631474Z",
     "shell.execute_reply": "2025-06-04T13:59:56.630405Z"
    }
   },
   "outputs": [
    {
     "name": "stdout",
     "output_type": "stream",
     "text": [
      "Predictions vs Actual Labels for Test Set:\n",
      "  Point: [5, 6], Predicted: 0, Actual: 1\n",
      "  Point: [6, 7], Predicted: 0, Actual: 1\n"
     ]
    }
   ],
   "source": [
    "from collections import Counter # Ensure Counter is available\n",
    "# Ensure euclidean_distance and mode are available (imported globally or redefined)\n",
    "# The knn_predict function should be defined in Part 3, Section 7.\n",
    "# We assume it's available in the notebook's execution context.\n",
    "\n",
    "k_project = 3\n",
    "predictions_proj = []\n",
    "if 'X_train_proj' in locals() and 'y_train_proj' in locals() and 'X_test_proj' in locals():\n",
    "    if callable(globals().get('knn_predict')):\n",
    "        for test_point in X_test_proj:\n",
    "            pred = knn_predict(X_train_proj, y_train_proj, test_point, k_project)\n",
    "            predictions_proj.append(pred)\n",
    "\n",
    "        print(\"Predictions vs Actual Labels for Test Set:\")\n",
    "        for i in range(len(X_test_proj)):\n",
    "            print(f\"  Point: {X_test_proj[i]}, Predicted: {predictions_proj[i]}, Actual: {y_test_proj[i]}\")\n",
    "    else:\n",
    "        print(\"knn_predict function not found. Please ensure Part 3, Section 7 was executed.\")\n",
    "else:\n",
    "    print(\"Training/Test data (X_train_proj, etc.) not found. Ensure previous cells in Section 9 are run.\")\n",
    "\n",
    "# Dummy predictions if k-NN could not run, to allow accuracy cell to run\n",
    "if not predictions_proj and 'y_test_proj' in locals() and y_test_proj:\n",
    "    predictions_proj = [random.choice([0,1]) for _ in y_test_proj]\n",
    "    print(\"\\nUsing dummy predictions for accuracy calculation as k-NN did not run.\")"
   ]
  },
  {
   "cell_type": "markdown",
   "id": "9f94beca",
   "metadata": {},
   "source": [
    "#### Simple Evaluation\n",
    "*   Calculating accuracy."
   ]
  },
  {
   "cell_type": "code",
   "execution_count": 25,
   "id": "eebae931",
   "metadata": {
    "execution": {
     "iopub.execute_input": "2025-06-04T13:59:56.635338Z",
     "iopub.status.busy": "2025-06-04T13:59:56.634887Z",
     "iopub.status.idle": "2025-06-04T13:59:56.641466Z",
     "shell.execute_reply": "2025-06-04T13:59:56.640405Z"
    }
   },
   "outputs": [
    {
     "name": "stdout",
     "output_type": "stream",
     "text": [
      "Accuracy: 0.00% (based on dummy predictions)\n"
     ]
    }
   ],
   "source": [
    "# Simplified Evaluation\n",
    "correct_predictions = 0\n",
    "if len(predictions_proj) == len(y_test_proj):\n",
    "    for i in range(len(predictions_proj)):\n",
    "        if predictions_proj[i] == y_test_proj[i]:\n",
    "            correct_predictions += 1\n",
    "    accuracy = correct_predictions / len(y_test_proj) if len(y_test_proj) > 0 else 0\n",
    "    print(f\"Accuracy: {accuracy*100:.2f}% (based on dummy predictions)\")\n",
    "else:\n",
    "    print(\"Prediction and actual label lists differ in length.\")"
   ]
  },
  {
   "cell_type": "markdown",
   "id": "a46085d0",
   "metadata": {},
   "source": [
    "#### Mini-Project Conclusion\n",
    "*   Summary of the simplified project."
   ]
  },
  {
   "cell_type": "markdown",
   "id": "01bcf811",
   "metadata": {},
   "source": [
    "### Section 10: Your Data Science Journey Continues!"
   ]
  },
  {
   "cell_type": "markdown",
   "id": "43363c35",
   "metadata": {},
   "source": [
    "*   **Learning Objectives:**\n",
    "    *   Know what to learn next.\n",
    "    *   Find resources for continued learning."
   ]
  },
  {
   "cell_type": "markdown",
   "id": "300040e1",
   "metadata": {},
   "source": [
    "*   **Content:**\n",
    "    *   **Recap of What Was Learned:**\n",
    "        *   Brief summary."
   ]
  },
  {
   "cell_type": "markdown",
   "id": "71681055",
   "metadata": {},
   "source": [
    "    *   **Key Areas for Further Study:**\n",
    "        *   Placeholder for key areas. This content is shortened for debugging."
   ]
  },
  {
   "cell_type": "markdown",
   "id": "1f9250c2",
   "metadata": {},
   "source": [
    "    *   **Recommended Learning Resources (Examples):**\n",
    "        *   Placeholder for resources list. This cell content is intentionally shortened for debugging."
   ]
  },
  {
   "cell_type": "markdown",
   "id": "741d7b23",
   "metadata": {},
   "source": [
    "    *   **Encouragement and Final Thoughts:**\n",
    "        *   Keep learning!"
   ]
  },
  {
   "cell_type": "markdown",
   "id": "750cf077",
   "metadata": {},
   "source": [
    "Congratulations on completing this introductory journey into Data Science! You've covered a lot of ground, from Python basics and statistical concepts to data visualization and the fundamentals of machine learning. \n",
    "\n",
    "Remember, data science is a vast and ever-evolving field. The skills and concepts you've learned here are just the beginning. Keep practicing, exploring new datasets, and diving deeper into topics that interest you. \n",
    "\n",
    "Refer back to the 'Further Learning and Resources' section for guidance on your next steps. Happy learning, and we hope you found this notebook helpful!"
   ]
  }
 ],
 "metadata": {
  "language_info": {
   "codemirror_mode": {
    "name": "ipython",
    "version": 3
   },
   "file_extension": ".py",
   "mimetype": "text/x-python",
   "name": "python",
   "nbconvert_exporter": "python",
   "pygments_lexer": "ipython3",
   "version": "3.10.17"
  }
 },
 "nbformat": 4,
 "nbformat_minor": 5
}
